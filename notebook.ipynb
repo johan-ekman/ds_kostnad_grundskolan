{
 "cells": [
  {
   "cell_type": "code",
   "execution_count": 29,
   "metadata": {},
   "outputs": [],
   "source": [
    "# pandas\n",
    "import pandas as pd\n",
    "\n",
    "# övrigt\n",
    "import os\n",
    "import warnings\n",
    "\n",
    "# visualisering\n",
    "import matplotlib.pyplot as plt\n",
    "import seaborn as sns\n",
    "\n",
    "warnings.filterwarnings('ignore')"
   ]
  },
  {
   "cell_type": "markdown",
   "metadata": {},
   "source": [
    "**November 2018**\n",
    "\n",
    "Reporter Cecilia Granestrand ska skriva en trendartikel om kostnadsökningen inom skolan. Artikelidén kommer från [en statistiknyhetfrån SCB](https://www.scb.se/hitta-statistik/statistik-efter-amne/utbildning-och-forskning/befolkningens-utbildning/kostnader-for-utbildningsvasendet/pong/statistiknyhet/kostnader-for-utbildningsvasendet-2013-2017/) om att kostnader per gymnasieelev har stigit med 10 procent. \n",
    "\n",
    "Efter samtal med Jose-Luis Berrospi på Skolverket (08-527 333 56) har gjort en rapport som visar hur kostnadsutvecklingen sett ut i grundskolan sedan 2000. Vi valde att fokusera på de senaste 10 åren. Resultatet publicerades i tidningen nr 42 och finns [att läsa på webben här](https://dagenssamhalle.se/nyhet/mer-pengar-gar-till-undervisning-25128)."
   ]
  },
  {
   "cell_type": "markdown",
   "metadata": {},
   "source": [
    "### Datatvätt"
   ]
  },
  {
   "cell_type": "markdown",
   "metadata": {},
   "source": [
    "Först hämta all data från datafilerna. Dessa är i sig tvättade. Vill man se hur grunddatafilerna ser ut så finns dessa i mappen \"grund\" i mappen \"data\". Data hämtades från [Skolverkets sida för statistik](https://www.skolverket.se/skolutveckling/statistik/sok-statistik-om-forskola-skola-och-vuxenutbildning).\n",
    "\n",
    "För data på elever: Egentligen är varje års elevantal från höstterminen för respektive år. Så 2017 är egentligen läsåret 2017/18. \n",
    "\n",
    "Import av data:"
   ]
  },
  {
   "cell_type": "code",
   "execution_count": 30,
   "metadata": {},
   "outputs": [],
   "source": [
    "df = pd.DataFrame()\n",
    "for file in os.listdir('data/'):\n",
    "    if \".xls\" in file:\n",
    "        if \"elev\" in file:\n",
    "            continue\n",
    "        year = file[:4]\n",
    "        temp = pd.read_excel(f'data/{file}',sheet_name=\"Blad1\").set_index('Huvudman').T\n",
    "        temp['år'] = year\n",
    "        \n",
    "        df = pd.concat([df,temp])\n",
    "        "
   ]
  },
  {
   "cell_type": "markdown",
   "metadata": {},
   "source": [
    "Formattera kolumner (Skolverkets data är verkligen vidrig...):"
   ]
  },
  {
   "cell_type": "code",
   "execution_count": 31,
   "metadata": {},
   "outputs": [],
   "source": [
    "df.columns = df.columns.str.replace(\"%\",\"\")\\\n",
    "                        .str.strip()\\\n",
    "                        .str.replace(\",\",\"\")\\\n",
    "                        .str.strip()\\\n",
    "                        .str.replace(\"\\(\",\"\")\\\n",
    "                        .str.strip()\\\n",
    "                        .str.replace(\"\\)\",\"\")\\\n",
    "                        .str.strip()\\\n",
    "                        .str.replace(\" \",\"_\")\\\n",
    "                        .str.strip()\\\n",
    "                        .str.lower()\\\n",
    "                        .str.replace(\"%\",\"\")"
   ]
  },
  {
   "cell_type": "markdown",
   "metadata": {},
   "source": [
    "Lite allmän formattering av namn och kolumner:"
   ]
  },
  {
   "cell_type": "code",
   "execution_count": 32,
   "metadata": {},
   "outputs": [],
   "source": [
    "df = df.reset_index().rename(columns={'index':'variabel'})"
   ]
  },
  {
   "cell_type": "code",
   "execution_count": 33,
   "metadata": {},
   "outputs": [],
   "source": [
    "df.totalt_tkr = pd.to_numeric(df.totalt_tkr)"
   ]
  },
  {
   "cell_type": "code",
   "execution_count": 34,
   "metadata": {},
   "outputs": [],
   "source": [
    "df.år = pd.to_numeric(df.år)"
   ]
  },
  {
   "cell_type": "code",
   "execution_count": 35,
   "metadata": {},
   "outputs": [],
   "source": [
    "df = df.sort_values('år')"
   ]
  },
  {
   "cell_type": "markdown",
   "metadata": {},
   "source": [
    "Import av kpi-data (vi vill räkna om kostnaderna till fasta priser)"
   ]
  },
  {
   "cell_type": "code",
   "execution_count": 36,
   "metadata": {},
   "outputs": [],
   "source": [
    "kpi = pd.read_excel('data/övrig_data/kpi.xlsx')"
   ]
  },
  {
   "cell_type": "markdown",
   "metadata": {},
   "source": [
    "För att räkna om till fasta priser (mer specifikt: i 2008 års priser). Också för att skapa en kolumn för procentuell utveckling i fasta priser:"
   ]
  },
  {
   "cell_type": "code",
   "execution_count": 37,
   "metadata": {},
   "outputs": [],
   "source": [
    "df = df.merge(kpi,on='år',how='left')\n",
    "df['fasta_priser'] = df['totalt_tkr'] - (df['totalt_tkr'] * df['förändring'])"
   ]
  },
  {
   "cell_type": "code",
   "execution_count": 38,
   "metadata": {},
   "outputs": [],
   "source": [
    "for var in df.variabel.unique():\n",
    "    priser = df.loc[df['variabel']==var,'fasta_priser']\n",
    "    priser = (((priser / priser.iloc[0])-1)*100).round(1)\n",
    "    df.loc[df['variabel']==var,'förändring_fasta_priser'] = priser\n",
    "df.drop(['kpi','förändring'],axis=1,inplace=True)"
   ]
  },
  {
   "cell_type": "code",
   "execution_count": 39,
   "metadata": {},
   "outputs": [
    {
     "data": {
      "text/html": [
       "<div>\n",
       "<style scoped>\n",
       "    .dataframe tbody tr th:only-of-type {\n",
       "        vertical-align: middle;\n",
       "    }\n",
       "\n",
       "    .dataframe tbody tr th {\n",
       "        vertical-align: top;\n",
       "    }\n",
       "\n",
       "    .dataframe thead th {\n",
       "        text-align: right;\n",
       "    }\n",
       "</style>\n",
       "<table border=\"1\" class=\"dataframe\">\n",
       "  <thead>\n",
       "    <tr style=\"text-align: right;\">\n",
       "      <th></th>\n",
       "      <th>variabel</th>\n",
       "      <th>totalt_tkr</th>\n",
       "      <th>andel</th>\n",
       "      <th>kostnad_per_elev_kr</th>\n",
       "      <th>år</th>\n",
       "      <th>fasta_priser</th>\n",
       "      <th>förändring_fasta_priser</th>\n",
       "    </tr>\n",
       "  </thead>\n",
       "  <tbody>\n",
       "    <tr>\n",
       "      <th>75</th>\n",
       "      <td>övrigt</td>\n",
       "      <td>16248821</td>\n",
       "      <td>14,6</td>\n",
       "      <td>15700</td>\n",
       "      <td>2017</td>\n",
       "      <td>1.508031e+07</td>\n",
       "      <td>25.6</td>\n",
       "    </tr>\n",
       "    <tr>\n",
       "      <th>76</th>\n",
       "      <td>elevvård</td>\n",
       "      <td>3324707</td>\n",
       "      <td>3,0</td>\n",
       "      <td>3220</td>\n",
       "      <td>2017</td>\n",
       "      <td>3.085616e+06</td>\n",
       "      <td>66.6</td>\n",
       "    </tr>\n",
       "    <tr>\n",
       "      <th>77</th>\n",
       "      <td>läromedel_utrustning_bibliotek</td>\n",
       "      <td>4767770</td>\n",
       "      <td>4,3</td>\n",
       "      <td>4600</td>\n",
       "      <td>2017</td>\n",
       "      <td>4.424903e+06</td>\n",
       "      <td>53.2</td>\n",
       "    </tr>\n",
       "    <tr>\n",
       "      <th>78</th>\n",
       "      <td>totalt</td>\n",
       "      <td>111438636</td>\n",
       "      <td>100,0</td>\n",
       "      <td>108000</td>\n",
       "      <td>2017</td>\n",
       "      <td>1.034247e+08</td>\n",
       "      <td>37.5</td>\n",
       "    </tr>\n",
       "    <tr>\n",
       "      <th>79</th>\n",
       "      <td>skolmåltider</td>\n",
       "      <td>6635336</td>\n",
       "      <td>6,0</td>\n",
       "      <td>6400</td>\n",
       "      <td>2017</td>\n",
       "      <td>6.158166e+06</td>\n",
       "      <td>33.2</td>\n",
       "    </tr>\n",
       "  </tbody>\n",
       "</table>\n",
       "</div>"
      ],
      "text/plain": [
       "                          variabel  totalt_tkr  andel kostnad_per_elev_kr  \\\n",
       "75                          övrigt    16248821   14,6               15700   \n",
       "76                        elevvård     3324707    3,0                3220   \n",
       "77  läromedel_utrustning_bibliotek     4767770    4,3                4600   \n",
       "78                          totalt   111438636  100,0              108000   \n",
       "79                    skolmåltider     6635336    6,0                6400   \n",
       "\n",
       "      år  fasta_priser  förändring_fasta_priser  \n",
       "75  2017  1.508031e+07                     25.6  \n",
       "76  2017  3.085616e+06                     66.6  \n",
       "77  2017  4.424903e+06                     53.2  \n",
       "78  2017  1.034247e+08                     37.5  \n",
       "79  2017  6.158166e+06                     33.2  "
      ]
     },
     "execution_count": 39,
     "metadata": {},
     "output_type": "execute_result"
    }
   ],
   "source": [
    "df.tail()"
   ]
  },
  {
   "cell_type": "markdown",
   "metadata": {},
   "source": [
    "### Eleverna"
   ]
  },
  {
   "cell_type": "markdown",
   "metadata": {},
   "source": [
    "Import av elevdata, också från Skolverket"
   ]
  },
  {
   "cell_type": "code",
   "execution_count": 40,
   "metadata": {},
   "outputs": [],
   "source": [
    "elever = pd.read_excel('data/elever.xls')[['år','elever']]"
   ]
  },
  {
   "cell_type": "code",
   "execution_count": 41,
   "metadata": {},
   "outputs": [],
   "source": [
    "elever = elever.drop_duplicates()"
   ]
  },
  {
   "cell_type": "markdown",
   "metadata": {},
   "source": [
    "Denna kolumn klistrades enbart in för att lägga till slutfilen till Cissi (som polerades estetiskt i excel)"
   ]
  },
  {
   "cell_type": "code",
   "execution_count": 42,
   "metadata": {},
   "outputs": [],
   "source": [
    "elever['Antal'] = elever.elever"
   ]
  },
  {
   "cell_type": "code",
   "execution_count": 43,
   "metadata": {},
   "outputs": [],
   "source": [
    "elever.elever = (((elever.elever / elever.elever.iloc[0])-1)*100).round(1)"
   ]
  },
  {
   "cell_type": "code",
   "execution_count": 44,
   "metadata": {},
   "outputs": [],
   "source": [
    "elever.drop('Antal',axis=1,inplace=True)"
   ]
  },
  {
   "cell_type": "markdown",
   "metadata": {},
   "source": [
    "Det heter elevhälsa idag, inte elevvård:"
   ]
  },
  {
   "cell_type": "code",
   "execution_count": 45,
   "metadata": {},
   "outputs": [],
   "source": [
    "df.variabel = df.variabel.str.replace('elevvård','elevhälsa')"
   ]
  },
  {
   "cell_type": "markdown",
   "metadata": {},
   "source": [
    "Skapa en fil med utveckling per kostnadskategori:"
   ]
  },
  {
   "cell_type": "markdown",
   "metadata": {},
   "source": [
    "#### Nu för att kunna plotta:"
   ]
  },
  {
   "cell_type": "markdown",
   "metadata": {},
   "source": [
    "Funktion som ser till att elevutveckling och kostnadsutveckling (i fasta priser) finns i samma kolumn, och att vi har en ny kolumn - \"variabler\" - som säger till oss ifall det är utvecklingen av elever eller kostnader. Anledningen är att jag vill använda denna kolumn (\"variabler\") som ett hue-argument i min facetgrid-plot nedan."
   ]
  },
  {
   "cell_type": "code",
   "execution_count": 46,
   "metadata": {},
   "outputs": [],
   "source": [
    "def pre_plot_func(df,elever,variabel,counter):\n",
    "    \n",
    "    df = df.loc[df['variabel']==variabel,['år',\n",
    "                                          'variabel',\n",
    "                                          'förändring_fasta_priser']]\n",
    "    df = df.merge(elever,on='år',how='left')\n",
    "    \n",
    "    df = df.melt(id_vars=['år','variabel'],\n",
    "                 var_name='variabler').sort_values(['år','variabel'])\n",
    "    \n",
    "    return df[['år','variabel','variabler','value']]"
   ]
  },
  {
   "cell_type": "markdown",
   "metadata": {},
   "source": [
    "Här skapas en ny dataframe som vi kan använda för vår plot! "
   ]
  },
  {
   "cell_type": "code",
   "execution_count": 47,
   "metadata": {},
   "outputs": [],
   "source": [
    "tmp = pd.DataFrame()\n",
    "counter = 1\n",
    "for var in df.variabel.unique():\n",
    "    tmp = pd.concat([tmp,pre_plot_func(df,elever,var,counter)])\n",
    "    counter += 1\n",
    "\n",
    "# Bort med elevavgifter, det är en irrelevant kostnad\n",
    "tmp = tmp.loc[tmp['variabel']!='elevavgifter'].reset_index(drop=True)\n",
    "\n",
    "# Denna kolumn används nedan när vi plottar\n",
    "tmp['next'] = tmp.value.shift(-1)\n",
    "\n",
    "# När vi använder shift() ovan så innebär det att det sista värdet i \n",
    "# kolumnen \"next\" kommer bli NaN. Här fixar vi det:\n",
    "tmp.iloc[-1,-1] = tmp.iloc[-2,-1]\n",
    "\n",
    "# Konverterar årsdata till datetime\n",
    "tmp.år = pd.to_datetime(tmp.år,format='%Y')"
   ]
  },
  {
   "cell_type": "markdown",
   "metadata": {},
   "source": [
    "Jag vill fylla i ytan mellan de två linjerna för elevutveckling och för kostnadsutvecklingen i diagrammen. Denna funktion ser till att så sker. Den använder vi sedan när vi mappar vår facetgrid-plot mot vår data nedan. matplotlib-funktionen \"fill_between\" behöver tre argument för att fungera: x-axelns värden per plot (x), all data för första linjen (y), och all data för andra linjen (z). All data som är 'elever ignoreras och därför så kollar denna funktion upp ifall plottdata i kolumn 'variabler' (v) är lika med 'förändring_fasta_priser'. Isf läggs detta till som data för fill_between!\n",
    "\n",
    "**kwargs är enbart för att alla argument från seaborn ska hänga med i funktionens output."
   ]
  },
  {
   "cell_type": "code",
   "execution_count": 48,
   "metadata": {},
   "outputs": [],
   "source": [
    "def dateplot(x, y, z, v, **kwargs):\n",
    "    \n",
    "    # hämtar nuvarande axes (dvs nuvarande plot i facetgridden)\n",
    "    ax = plt.gca()\n",
    "    \n",
    "    # plottar linjer\n",
    "    ax.plot(x,y,marker='.')\n",
    "    \n",
    "    # säger åt matplotlib vilken data som ska användas för fill_between\n",
    "    if v.iloc[0] == 'förändring_fasta_priser':\n",
    "        ax.fill_between(x.values, # numpy array, annars funkar ej\n",
    "                        y,\n",
    "                        z,\n",
    "                        alpha=0.2,\n",
    "                        color='r')"
   ]
  },
  {
   "cell_type": "code",
   "execution_count": 49,
   "metadata": {},
   "outputs": [
    {
     "data": {
      "image/png": "[encoded data removed]",
      "text/plain": [
       "<Figure size 1080x720 with 7 Axes>"
      ]
     },
     "metadata": {
      "needs_background": "light"
     },
     "output_type": "display_data"
    }
   ],
   "source": [
    "g = sns.FacetGrid(tmp,col='variabel',col_wrap=3,hue='variabler')\n",
    "g.map(dateplot,'år','value', 'next', 'variabler')\n",
    "\n",
    "g.set_xticklabels(step=2,rotation=45)\n",
    "g.fig.set_size_inches(15,10)\n",
    "\n",
    "\n",
    "for a in g.axes:\n",
    "    a.grid(True, axis='y', alpha=0.3, color='grey')\n"
   ]
  },
  {
   "cell_type": "code",
   "execution_count": 50,
   "metadata": {},
   "outputs": [],
   "source": [
    "df = df.loc[df['variabel']!='elevavgifter']"
   ]
  },
  {
   "cell_type": "code",
   "execution_count": 51,
   "metadata": {},
   "outputs": [
    {
     "data": {
      "text/plain": [
       "array(['totalt', 'undervisning', 'lokaler_inventarier', 'övrigt',\n",
       "       'läromedel_utrustning_bibliotek', 'elevhälsa', 'skolmåltider'],\n",
       "      dtype=object)"
      ]
     },
     "execution_count": 51,
     "metadata": {},
     "output_type": "execute_result"
    }
   ],
   "source": [
    "df.variabel.unique()"
   ]
  },
  {
   "cell_type": "code",
   "execution_count": 52,
   "metadata": {},
   "outputs": [],
   "source": [
    "mapping = dict(zip(['totalt', 'undervisning', 'lokaler_inventarier', 'övrigt',\n",
    "       'läromedel_utrustning_bibliotek', 'elevhälsa', 'skolmåltider'],\n",
    "    ['Totalt', 'Undervisning', 'Lokaler och inventarier', 'Övriga kostnader',\n",
    "     'Läromedel, utrustning och bibliotek', 'Elevhälsa', 'Skolmåltider']))"
   ]
  },
  {
   "cell_type": "code",
   "execution_count": 53,
   "metadata": {},
   "outputs": [],
   "source": [
    "df.variabel = df.variabel.map(mapping)"
   ]
  },
  {
   "cell_type": "code",
   "execution_count": 54,
   "metadata": {},
   "outputs": [],
   "source": [
    "os.makedirs('res')"
   ]
  },
  {
   "cell_type": "code",
   "execution_count": 55,
   "metadata": {},
   "outputs": [],
   "source": [
    "df.sort_values(['variabel','år'])[['år','variabel','andel','förändring_fasta_priser']].to_excel('res/fasta_priser.xlsx',index=False)"
   ]
  },
  {
   "cell_type": "code",
   "execution_count": null,
   "metadata": {},
   "outputs": [],
   "source": []
  },
  {
   "cell_type": "code",
   "execution_count": null,
   "metadata": {},
   "outputs": [],
   "source": []
  },
  {
   "cell_type": "code",
   "execution_count": null,
   "metadata": {},
   "outputs": [],
   "source": []
  },
  {
   "cell_type": "code",
   "execution_count": null,
   "metadata": {},
   "outputs": [],
   "source": []
  },
  {
   "cell_type": "code",
   "execution_count": null,
   "metadata": {},
   "outputs": [],
   "source": []
  },
  {
   "cell_type": "code",
   "execution_count": null,
   "metadata": {},
   "outputs": [],
   "source": []
  }
 ],
 "metadata": {
  "kernelspec": {
   "display_name": "Python 3",
   "language": "python",
   "name": "python3"
  },
  "language_info": {
   "codemirror_mode": {
    "name": "ipython",
    "version": 3
   },
   "file_extension": ".py",
   "mimetype": "text/x-python",
   "name": "python",
   "nbconvert_exporter": "python",
   "pygments_lexer": "ipython3",
   "version": "3.6.2"
  }
 },
 "nbformat": 4,
 "nbformat_minor": 2
}
